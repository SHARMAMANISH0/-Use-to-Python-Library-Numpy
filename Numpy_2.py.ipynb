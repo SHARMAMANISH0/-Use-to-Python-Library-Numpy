{
 "cells": [
  {
   "cell_type": "markdown",
   "id": "eeaa7441",
   "metadata": {},
   "source": [
    "# (4). diag() ==== "
   ]
  },
  {
   "cell_type": "code",
   "execution_count": 3,
   "id": "9621f1d8",
   "metadata": {},
   "outputs": [],
   "source": [
    "# (4). diag() ==== \n",
    "import numpy as np"
   ]
  },
  {
   "cell_type": "code",
   "execution_count": 4,
   "id": "6f63fd41",
   "metadata": {},
   "outputs": [
    {
     "data": {
      "text/plain": [
       "array([[ 1,  0,  0,  0],\n",
       "       [ 0, 45,  0,  0],\n",
       "       [ 0,  0, 78,  0],\n",
       "       [ 0,  0,  0, 90]])"
      ]
     },
     "execution_count": 4,
     "metadata": {},
     "output_type": "execute_result"
    }
   ],
   "source": [
    "a = np.diag([1,45,78,90])\n",
    "a"
   ]
  },
  {
   "cell_type": "markdown",
   "id": "e0f974d4",
   "metadata": {},
   "source": [
    "# (5). Random Module ===> "
   ]
  },
  {
   "cell_type": "code",
   "execution_count": 3,
   "id": "bf76edf6",
   "metadata": {},
   "outputs": [],
   "source": [
    "\n",
    "# (a). Randint() ===> np.random.randint(min_number , max_number , total_numbers)\n",
    "# (b). Rand() ====> 0-1 random numbers . \n",
    "# (c). randn() ===> -3 to +3 . \n",
    "# (d). seed() ===> fix our random numbers . "
   ]
  },
  {
   "cell_type": "markdown",
   "id": "c0b60c29",
   "metadata": {},
   "source": [
    "#  Randint() Function"
   ]
  },
  {
   "cell_type": "markdown",
   "id": "5926c4a1",
   "metadata": {},
   "source": [
    "(a). Randint() ===> np.random.randint(min_number , max_number , total_numbers)"
   ]
  },
  {
   "cell_type": "code",
   "execution_count": 15,
   "id": "406c51f6",
   "metadata": {},
   "outputs": [
    {
     "data": {
      "text/plain": [
       "array([4, 7, 2])"
      ]
     },
     "execution_count": 15,
     "metadata": {},
     "output_type": "execute_result"
    }
   ],
   "source": [
    "a=np.random.randint(1,10,3)\n",
    "a"
   ]
  },
  {
   "cell_type": "markdown",
   "id": "eab0de03",
   "metadata": {},
   "source": [
    "# Rand() Function"
   ]
  },
  {
   "cell_type": "markdown",
   "id": "5c1c4a3e",
   "metadata": {},
   "source": [
    "### 0-1 random numbers"
   ]
  },
  {
   "cell_type": "code",
   "execution_count": 9,
   "id": "c4083510",
   "metadata": {},
   "outputs": [
    {
     "data": {
      "text/plain": [
       "array([0.27918309, 0.42064025, 0.10277051])"
      ]
     },
     "execution_count": 9,
     "metadata": {},
     "output_type": "execute_result"
    }
   ],
   "source": [
    "a = np.random.rand(3)\n",
    "a"
   ]
  },
  {
   "cell_type": "markdown",
   "id": "00df245d",
   "metadata": {},
   "source": [
    "#  randn() Function"
   ]
  },
  {
   "cell_type": "markdown",
   "id": "7dfe9d1b",
   "metadata": {},
   "source": [
    "##  -3 to +3 Start"
   ]
  },
  {
   "cell_type": "code",
   "execution_count": 8,
   "id": "0e922305",
   "metadata": {},
   "outputs": [
    {
     "data": {
      "text/plain": [
       "array([-0.01807969,  0.24226407,  0.26321143])"
      ]
     },
     "execution_count": 8,
     "metadata": {},
     "output_type": "execute_result"
    }
   ],
   "source": [
    "a = np.random.randn(3)\n",
    "a"
   ]
  },
  {
   "cell_type": "markdown",
   "id": "9fe45637",
   "metadata": {},
   "source": [
    "# seed () Function"
   ]
  },
  {
   "cell_type": "markdown",
   "id": "0ee28f65",
   "metadata": {},
   "source": [
    "fix our random numbers "
   ]
  },
  {
   "cell_type": "code",
   "execution_count": 14,
   "id": "2103f028",
   "metadata": {},
   "outputs": [
    {
     "data": {
      "text/plain": [
       "array([4, 1, 6])"
      ]
     },
     "execution_count": 14,
     "metadata": {},
     "output_type": "execute_result"
    }
   ],
   "source": [
    "np.random.seed(45)\n",
    "\n",
    "a = np.random.randint(1,10,3)\n",
    "a"
   ]
  },
  {
   "cell_type": "markdown",
   "id": "8a71042e",
   "metadata": {},
   "source": [
    "# # matrix ===> reshape ===> "
   ]
  },
  {
   "cell_type": "markdown",
   "id": "e2c79004",
   "metadata": {},
   "source": [
    "row* column = total_elements"
   ]
  },
  {
   "cell_type": "code",
   "execution_count": 16,
   "id": "393872f5",
   "metadata": {},
   "outputs": [
    {
     "data": {
      "text/plain": [
       "array([47,  9, 54, 13, 35, 25, 13, 18, 39,  5, 47, 31])"
      ]
     },
     "execution_count": 16,
     "metadata": {},
     "output_type": "execute_result"
    }
   ],
   "source": [
    "a = np.random.randint(1,59,12)\n",
    "a"
   ]
  },
  {
   "cell_type": "code",
   "execution_count": 17,
   "id": "e0aeee54",
   "metadata": {},
   "outputs": [
    {
     "data": {
      "text/plain": [
       "array([[47,  9, 54, 13, 35, 25],\n",
       "       [13, 18, 39,  5, 47, 31]])"
      ]
     },
     "execution_count": 17,
     "metadata": {},
     "output_type": "execute_result"
    }
   ],
   "source": [
    "a.reshape(2,6)"
   ]
  },
  {
   "cell_type": "code",
   "execution_count": 20,
   "id": "ccc71a87",
   "metadata": {},
   "outputs": [
    {
     "data": {
      "text/plain": [
       "array([[47,  9],\n",
       "       [54, 13],\n",
       "       [35, 25],\n",
       "       [13, 18],\n",
       "       [39,  5],\n",
       "       [47, 31]])"
      ]
     },
     "execution_count": 20,
     "metadata": {},
     "output_type": "execute_result"
    }
   ],
   "source": [
    "a.reshape(6,2)"
   ]
  },
  {
   "cell_type": "code",
   "execution_count": 21,
   "id": "d501ffc4",
   "metadata": {},
   "outputs": [
    {
     "data": {
      "text/plain": [
       "array([[47,  9, 54, 13],\n",
       "       [35, 25, 13, 18],\n",
       "       [39,  5, 47, 31]])"
      ]
     },
     "execution_count": 21,
     "metadata": {},
     "output_type": "execute_result"
    }
   ],
   "source": [
    "a.reshape(3,4)"
   ]
  },
  {
   "cell_type": "code",
   "execution_count": 22,
   "id": "ab02ad2b",
   "metadata": {},
   "outputs": [
    {
     "data": {
      "text/plain": [
       "array([[47,  9, 54],\n",
       "       [13, 35, 25],\n",
       "       [13, 18, 39],\n",
       "       [ 5, 47, 31]])"
      ]
     },
     "execution_count": 22,
     "metadata": {},
     "output_type": "execute_result"
    }
   ],
   "source": [
    "a.reshape(4,3)"
   ]
  },
  {
   "cell_type": "markdown",
   "id": "e35b9775",
   "metadata": {},
   "source": [
    "cannot reshape array of size 12 into shape (5,6)# "
   ]
  },
  {
   "cell_type": "code",
   "execution_count": 23,
   "id": "90a4a67f",
   "metadata": {},
   "outputs": [
    {
     "ename": "ValueError",
     "evalue": "cannot reshape array of size 12 into shape (5,6)",
     "output_type": "error",
     "traceback": [
      "\u001b[1;31m---------------------------------------------------------------------------\u001b[0m",
      "\u001b[1;31mValueError\u001b[0m                                Traceback (most recent call last)",
      "Cell \u001b[1;32mIn[23], line 1\u001b[0m\n\u001b[1;32m----> 1\u001b[0m a\u001b[38;5;241m.\u001b[39mreshape(\u001b[38;5;241m5\u001b[39m,\u001b[38;5;241m6\u001b[39m)\n",
      "\u001b[1;31mValueError\u001b[0m: cannot reshape array of size 12 into shape (5,6)"
     ]
    }
   ],
   "source": [
    "a.reshape(5,6)"
   ]
  },
  {
   "cell_type": "markdown",
   "id": "4af7bce5",
   "metadata": {},
   "source": [
    "# View vs Copy()"
   ]
  },
  {
   "cell_type": "code",
   "execution_count": 25,
   "id": "9dc1ef79",
   "metadata": {},
   "outputs": [
    {
     "data": {
      "text/plain": [
       "array([10, 20, 30,  0,  0,  0, 70, 80])"
      ]
     },
     "execution_count": 25,
     "metadata": {},
     "output_type": "execute_result"
    }
   ],
   "source": [
    "a = np.array([10,20,30,40,50,60,70,80])\n",
    "b=a[3:6]\n",
    "b[:]= 0\n",
    "a"
   ]
  },
  {
   "cell_type": "code",
   "execution_count": 27,
   "id": "8e1e0a9c",
   "metadata": {},
   "outputs": [
    {
     "data": {
      "text/plain": [
       "array([0, 0, 0])"
      ]
     },
     "execution_count": 27,
     "metadata": {},
     "output_type": "execute_result"
    }
   ],
   "source": [
    "a = np.array([10,20,30,40,50,60,70,80])\n",
    "b=a[3:6].copy()\n",
    "b[:]= 0\n",
    "b\n",
    "a"
   ]
  },
  {
   "cell_type": "markdown",
   "id": "56965e02",
   "metadata": {},
   "source": [
    "# LinSpace()"
   ]
  },
  {
   "cell_type": "markdown",
   "id": "6cf8382e",
   "metadata": {},
   "source": [
    "same gap values"
   ]
  },
  {
   "cell_type": "code",
   "execution_count": 32,
   "id": "16340a8e",
   "metadata": {},
   "outputs": [
    {
     "data": {
      "text/plain": [
       "array([1.  , 1.25, 1.5 , 1.75, 2.  ])"
      ]
     },
     "execution_count": 32,
     "metadata": {},
     "output_type": "execute_result"
    }
   ],
   "source": [
    " a = np.linspace(1,2,5)\n",
    "a"
   ]
  },
  {
   "cell_type": "markdown",
   "id": "bac543a7",
   "metadata": {},
   "source": [
    "# Unique()"
   ]
  },
  {
   "cell_type": "code",
   "execution_count": 33,
   "id": "0c58da05",
   "metadata": {},
   "outputs": [
    {
     "data": {
      "text/plain": [
       "(array([10, 20, 30, 40, 50]),\n",
       " array([0, 1, 2, 7, 8], dtype=int64),\n",
       " array([5, 1, 1, 1, 1], dtype=int64))"
      ]
     },
     "execution_count": 33,
     "metadata": {},
     "output_type": "execute_result"
    }
   ],
   "source": [
    "a = np.array([10,20,30,10,10,10,10,40,50])\n",
    "np.unique(a , return_index = True , return_counts = True)"
   ]
  },
  {
   "cell_type": "markdown",
   "id": "7c700527",
   "metadata": {},
   "source": [
    "# Conditional Selection in Numpy "
   ]
  },
  {
   "cell_type": "code",
   "execution_count": 4,
   "id": "9be8f876",
   "metadata": {},
   "outputs": [
    {
     "data": {
      "text/plain": [
       "array([ 1,  2,  3,  4,  5,  6,  7,  8,  9, 10, 11, 12, 13, 14, 15])"
      ]
     },
     "execution_count": 4,
     "metadata": {},
     "output_type": "execute_result"
    }
   ],
   "source": [
    "import numpy as np\n",
    "a = np.arange(1,16,1)\n",
    "a"
   ]
  },
  {
   "cell_type": "code",
   "execution_count": 5,
   "id": "88b7b64d",
   "metadata": {},
   "outputs": [
    {
     "data": {
      "text/plain": [
       "array([False, False, False, False, False, False, False, False, False,\n",
       "       False,  True,  True,  True,  True,  True])"
      ]
     },
     "execution_count": 5,
     "metadata": {},
     "output_type": "execute_result"
    }
   ],
   "source": [
    "a>10"
   ]
  },
  {
   "cell_type": "code",
   "execution_count": 6,
   "id": "a8392d29",
   "metadata": {},
   "outputs": [
    {
     "data": {
      "text/plain": [
       "array([11, 12, 13, 14, 15])"
      ]
     },
     "execution_count": 6,
     "metadata": {},
     "output_type": "execute_result"
    }
   ],
   "source": [
    "b = a>10 \n",
    "a[b]"
   ]
  },
  {
   "cell_type": "code",
   "execution_count": 7,
   "id": "617f0cf2",
   "metadata": {},
   "outputs": [
    {
     "data": {
      "text/plain": [
       "array([ 2,  4,  6,  8, 10, 12, 14])"
      ]
     },
     "execution_count": 7,
     "metadata": {},
     "output_type": "execute_result"
    }
   ],
   "source": [
    "a[a%2 == 0] "
   ]
  },
  {
   "cell_type": "markdown",
   "id": "41333845",
   "metadata": {},
   "source": [
    "# Matrix Add(+)"
   ]
  },
  {
   "cell_type": "code",
   "execution_count": 8,
   "id": "01c0fd3d",
   "metadata": {},
   "outputs": [
    {
     "data": {
      "text/plain": [
       "array([[1, 2],\n",
       "       [3, 4]])"
      ]
     },
     "execution_count": 8,
     "metadata": {},
     "output_type": "execute_result"
    }
   ],
   "source": [
    "a = np.arange(1,5).reshape(2,2)\n",
    "a"
   ]
  },
  {
   "cell_type": "code",
   "execution_count": 12,
   "id": "4d20261f",
   "metadata": {},
   "outputs": [
    {
     "data": {
      "text/plain": [
       "array([[5, 6],\n",
       "       [7, 8]])"
      ]
     },
     "execution_count": 12,
     "metadata": {},
     "output_type": "execute_result"
    }
   ],
   "source": [
    "b = np.arange(5,9).reshape(2,2)\n",
    "b"
   ]
  },
  {
   "cell_type": "code",
   "execution_count": 13,
   "id": "b74a269d",
   "metadata": {},
   "outputs": [
    {
     "data": {
      "text/plain": [
       "array([[10, 12],\n",
       "       [14, 16]])"
      ]
     },
     "execution_count": 13,
     "metadata": {},
     "output_type": "execute_result"
    }
   ],
   "source": [
    "a+b  ## 1+5 = 6 , 2+6 = 8 , 3+7 = 10 , 4+8 = 12 "
   ]
  },
  {
   "cell_type": "markdown",
   "id": "f9c1b145",
   "metadata": {},
   "source": [
    "# Matrix sub(-)"
   ]
  },
  {
   "cell_type": "code",
   "execution_count": 14,
   "id": "aea0b2b0",
   "metadata": {},
   "outputs": [
    {
     "data": {
      "text/plain": [
       "array([[0, 0],\n",
       "       [0, 0]])"
      ]
     },
     "execution_count": 14,
     "metadata": {},
     "output_type": "execute_result"
    }
   ],
   "source": [
    "a-b"
   ]
  },
  {
   "cell_type": "markdown",
   "id": "a572db74",
   "metadata": {},
   "source": [
    "# matrix multiplication (*)"
   ]
  },
  {
   "cell_type": "code",
   "execution_count": 15,
   "id": "56aa6167",
   "metadata": {},
   "outputs": [
    {
     "data": {
      "text/plain": [
       "array([[ 67,  78],\n",
       "       [ 91, 106]])"
      ]
     },
     "execution_count": 15,
     "metadata": {},
     "output_type": "execute_result"
    }
   ],
   "source": [
    "a.dot(b)"
   ]
  },
  {
   "cell_type": "markdown",
   "id": "85d46883",
   "metadata": {},
   "source": [
    "# Stacking"
   ]
  },
  {
   "cell_type": "markdown",
   "id": "27bd418f",
   "metadata": {},
   "source": [
    "## (a). hstack() ===> horizontally adds 2 or more arrays . \n",
    "## (b). vstack() ====> vertically adds 2 or more arrays . "
   ]
  },
  {
   "cell_type": "code",
   "execution_count": 16,
   "id": "980e6dde",
   "metadata": {},
   "outputs": [
    {
     "data": {
      "text/plain": [
       "array([ 1,  2,  3,  4,  5,  6,  7,  8,  9, 10, 11, 12])"
      ]
     },
     "execution_count": 16,
     "metadata": {},
     "output_type": "execute_result"
    }
   ],
   "source": [
    "## (a). hstack() ===> horizontally adds 2 or more arrays \n",
    ". \n",
    "a = np.array([1,2,3,4])\n",
    "b = np.array([5,6,7,8])\n",
    "c = np.array([9,10,11,12])\n",
    "np.hstack((a,b,c))"
   ]
  },
  {
   "cell_type": "code",
   "execution_count": 17,
   "id": "ca2da582",
   "metadata": {},
   "outputs": [
    {
     "data": {
      "text/plain": [
       "array([[ 1,  2,  3,  4],\n",
       "       [ 5,  6,  7,  8],\n",
       "       [ 9, 10, 11, 12]])"
      ]
     },
     "execution_count": 17,
     "metadata": {},
     "output_type": "execute_result"
    }
   ],
   "source": [
    "#vstack() ====> vertically adds 2 or more arrays .\n",
    "np.vstack((a,b,c))\n"
   ]
  },
  {
   "cell_type": "markdown",
   "id": "f6607f4a",
   "metadata": {},
   "source": [
    "# ---------------------------------end------------------------------------------------"
   ]
  }
 ],
 "metadata": {
  "kernelspec": {
   "display_name": "Python 3 (ipykernel)",
   "language": "python",
   "name": "python3"
  },
  "language_info": {
   "codemirror_mode": {
    "name": "ipython",
    "version": 3
   },
   "file_extension": ".py",
   "mimetype": "text/x-python",
   "name": "python",
   "nbconvert_exporter": "python",
   "pygments_lexer": "ipython3",
   "version": "3.11.5"
  }
 },
 "nbformat": 4,
 "nbformat_minor": 5
}
