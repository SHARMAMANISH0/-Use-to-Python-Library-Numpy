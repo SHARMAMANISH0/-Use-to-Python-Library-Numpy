{
 "cells": [
  {
   "cell_type": "code",
   "execution_count": 2,
   "id": "9414283a",
   "metadata": {},
   "outputs": [],
   "source": [
    "import numpy as np "
   ]
  },
  {
   "cell_type": "code",
   "execution_count": 3,
   "id": "4806abf5",
   "metadata": {},
   "outputs": [],
   "source": [
    "# Numpy ===> Numpy is an open-source library that is used for scientific calculations . \n",
    "\n",
    "# Why Numpy is better than List ? \n",
    "# (1). List is hetrogeneous  while Numpy is homogeneous .\n",
    "# (2). List consumes more memory as compare to Numpy . \n",
    "# (3). List has more execution time as compare to Numpy . "
   ]
  },
  {
   "cell_type": "code",
   "execution_count": 4,
   "id": "815e5467",
   "metadata": {},
   "outputs": [
    {
     "data": {
      "text/plain": [
       "array([ 1, 45, 78, 90])"
      ]
     },
     "execution_count": 4,
     "metadata": {},
     "output_type": "execute_result"
    }
   ],
   "source": [
    "a=[1,45,78,90]\n",
    "b = np.array(a)\n",
    "b"
   ]
  },
  {
   "cell_type": "code",
   "execution_count": 5,
   "id": "437f90ae",
   "metadata": {},
   "outputs": [
    {
     "data": {
      "text/plain": [
       "numpy.ndarray"
      ]
     },
     "execution_count": 5,
     "metadata": {},
     "output_type": "execute_result"
    }
   ],
   "source": [
    "type(b)"
   ]
  },
  {
   "cell_type": "code",
   "execution_count": 6,
   "id": "723eaede",
   "metadata": {},
   "outputs": [
    {
     "data": {
      "text/plain": [
       "array([[ 1,  2,  3,  4],\n",
       "       [ 4,  5,  6,  7],\n",
       "       [ 7,  8,  9, 10]])"
      ]
     },
     "execution_count": 6,
     "metadata": {},
     "output_type": "execute_result"
    }
   ],
   "source": [
    "a = [[1,2,3,4],[4,5,6,7],[7,8,9,10]]\n",
    "b = np.array(a)\n",
    "b"
   ]
  },
  {
   "cell_type": "code",
   "execution_count": 7,
   "id": "46cd5329",
   "metadata": {},
   "outputs": [
    {
     "name": "stdout",
     "output_type": "stream",
     "text": [
      "Total Elements =  12\n",
      "Total Rows and columns =  (3, 4)\n",
      "Total Dimension =  2\n"
     ]
    }
   ],
   "source": [
    "print(\"Total Elements = \" , b.size) ## total elements = row*columns \n",
    "print(\"Total Rows and columns = \" , b.shape)  ## shape = rows , columns \n",
    "print(\"Total Dimension = \" , b.ndim)   ### 2 -Dimension ===> x,y \n"
   ]
  },
  {
   "cell_type": "code",
   "execution_count": null,
   "id": "ff447769",
   "metadata": {},
   "outputs": [],
   "source": [
    "# Images ===> Pixels (0-255px) ===> Normalize (0-1px) \n",
    "# DataSet ===> dummy entry ===> numpy \n",
    "# Matrix ===> row , column \n",
    "# Symmatric Matrix  = row = column \n",
    "# Asymmatric Matrix = n(row) != n(column) \n",
    "# Digonal Elements = [(1,1) , (2,2) , (3,3) , (4,4).....(n,n)]"
   ]
  },
  {
   "cell_type": "code",
   "execution_count": 11,
   "id": "d2ae473b",
   "metadata": {},
   "outputs": [
    {
     "data": {
      "text/plain": [
       "array([0., 0., 0., 0.])"
      ]
     },
     "execution_count": 11,
     "metadata": {},
     "output_type": "execute_result"
    }
   ],
   "source": [
    "# (1). zeros() ===> it will create an array in which we have all the values are zero .\n",
    "np.zeros(4)"
   ]
  },
  {
   "cell_type": "code",
   "execution_count": 13,
   "id": "dd7f7e64",
   "metadata": {},
   "outputs": [
    {
     "data": {
      "text/plain": [
       "array([[0., 0., 0.],\n",
       "       [0., 0., 0.]])"
      ]
     },
     "execution_count": 13,
     "metadata": {},
     "output_type": "execute_result"
    }
   ],
   "source": [
    "np.zeros((2,3))"
   ]
  },
  {
   "cell_type": "code",
   "execution_count": 14,
   "id": "0bdbf537",
   "metadata": {},
   "outputs": [
    {
     "data": {
      "text/plain": [
       "array([1., 1., 1., 1.])"
      ]
     },
     "execution_count": 14,
     "metadata": {},
     "output_type": "execute_result"
    }
   ],
   "source": [
    "# (1). ones() ===> it will create an array in which we have all the values are 1 .\n",
    "np.ones(4)"
   ]
  },
  {
   "cell_type": "code",
   "execution_count": 15,
   "id": "ba481b09",
   "metadata": {},
   "outputs": [
    {
     "data": {
      "text/plain": [
       "array([[1., 1., 1., 1.],\n",
       "       [1., 1., 1., 1.],\n",
       "       [1., 1., 1., 1.]])"
      ]
     },
     "execution_count": 15,
     "metadata": {},
     "output_type": "execute_result"
    }
   ],
   "source": [
    "np.ones((3,4))"
   ]
  },
  {
   "cell_type": "code",
   "execution_count": null,
   "id": "256e8b82",
   "metadata": {},
   "outputs": [],
   "source": [
    "# (3). eye() ====>>>> It will create an array in which digonal positional \n",
    "# elements are 1 and rest all are 0 .\n"
   ]
  },
  {
   "cell_type": "code",
   "execution_count": 16,
   "id": "9edb20b2",
   "metadata": {},
   "outputs": [
    {
     "data": {
      "text/plain": [
       "array([[1., 0., 0., 0.],\n",
       "       [0., 1., 0., 0.],\n",
       "       [0., 0., 1., 0.],\n",
       "       [0., 0., 0., 1.]])"
      ]
     },
     "execution_count": 16,
     "metadata": {},
     "output_type": "execute_result"
    }
   ],
   "source": [
    "np.eye(4) # symatrice"
   ]
  },
  {
   "cell_type": "code",
   "execution_count": 17,
   "id": "44415f67",
   "metadata": {},
   "outputs": [
    {
     "data": {
      "text/plain": [
       "array([[1., 0., 0.],\n",
       "       [0., 1., 0.]])"
      ]
     },
     "execution_count": 17,
     "metadata": {},
     "output_type": "execute_result"
    }
   ],
   "source": [
    "np.eye(2,3)  ## asymmtrice "
   ]
  },
  {
   "cell_type": "code",
   "execution_count": null,
   "id": "bd19260a",
   "metadata": {},
   "outputs": [],
   "source": []
  },
  {
   "cell_type": "code",
   "execution_count": null,
   "id": "70ab3e2f",
   "metadata": {},
   "outputs": [],
   "source": []
  },
  {
   "cell_type": "code",
   "execution_count": null,
   "id": "7f5e29cb",
   "metadata": {},
   "outputs": [],
   "source": []
  }
 ],
 "metadata": {
  "kernelspec": {
   "display_name": "Python 3 (ipykernel)",
   "language": "python",
   "name": "python3"
  },
  "language_info": {
   "codemirror_mode": {
    "name": "ipython",
    "version": 3
   },
   "file_extension": ".py",
   "mimetype": "text/x-python",
   "name": "python",
   "nbconvert_exporter": "python",
   "pygments_lexer": "ipython3",
   "version": "3.11.5"
  }
 },
 "nbformat": 4,
 "nbformat_minor": 5
}
